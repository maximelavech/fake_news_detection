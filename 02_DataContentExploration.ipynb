{
 "cells": [
  {
   "cell_type": "markdown",
   "metadata": {
    "hideCode": false,
    "hidePrompt": false
   },
   "source": [
    "<center> <h2> Data Content Exploration </h2> </center>\n",
    "    \n",
    "###  I. Data Source\n",
    "\n",
    "The data was downloaded from the Kaggle website (https://www.kaggle.com/clmentbisaillon/fake-and-real-news-dataset). \n",
    "It was provided by Clément Bisaillon who acknowledged the following sources:\n",
    "\n",
    "> Ahmed H, Traore I, Saad S. “Detecting opinion spams and fake news using text classification”, Journal of Security and Privacy, Volume 1, Issue 1, Wiley, January/February 2018\n",
    "\n",
    "> Ahmed H, Traore I, Saad S. (2017) “Detection of Online Fake News Using N-Gram Analysis and Machine Learning Techniques. In: Traore I., Woungang I., Awad A. (eds) Intelligent, Secure, and Dependable Systems in Distributed and Cloud Environments. ISDDC 2017. Lecture Notes in Computer Science, vol 10618. Springer, Cham (pp. 127-138).\n",
    "\n",
    "\n",
    "### II. Loading the data"
   ]
  },
  {
   "cell_type": "code",
   "execution_count": 1,
   "metadata": {
    "hideCode": false,
    "hidePrompt": false
   },
   "outputs": [],
   "source": [
    "import random\n",
    "import pandas as pd\n",
    "import numpy as np\n",
    "from utils.utils_display import load_data, display_random_article"
   ]
  },
  {
   "cell_type": "code",
   "execution_count": 2,
   "metadata": {
    "hideCode": false,
    "hidePrompt": false
   },
   "outputs": [],
   "source": [
    "filepath = './data/rawdata/'\n",
    "data = load_data(filepath)\n",
    "del data['subject']\n",
    "del data['date']"
   ]
  },
  {
   "cell_type": "code",
   "execution_count": 3,
   "metadata": {
    "hideCode": false,
    "hidePrompt": false,
    "scrolled": true
   },
   "outputs": [
    {
     "data": {
      "text/html": [
       "<div>\n",
       "<style scoped>\n",
       "    .dataframe tbody tr th:only-of-type {\n",
       "        vertical-align: middle;\n",
       "    }\n",
       "\n",
       "    .dataframe tbody tr th {\n",
       "        vertical-align: top;\n",
       "    }\n",
       "\n",
       "    .dataframe thead th {\n",
       "        text-align: right;\n",
       "    }\n",
       "</style>\n",
       "<table border=\"1\" class=\"dataframe\">\n",
       "  <thead>\n",
       "    <tr style=\"text-align: right;\">\n",
       "      <th></th>\n",
       "      <th>title</th>\n",
       "      <th>text</th>\n",
       "      <th>label</th>\n",
       "    </tr>\n",
       "  </thead>\n",
       "  <tbody>\n",
       "    <tr>\n",
       "      <th>0</th>\n",
       "      <td>As U.S. budget fight looms, Republicans flip t...</td>\n",
       "      <td>WASHINGTON (Reuters) - The head of a conservat...</td>\n",
       "      <td>True</td>\n",
       "    </tr>\n",
       "    <tr>\n",
       "      <th>1</th>\n",
       "      <td>U.S. military to accept transgender recruits o...</td>\n",
       "      <td>WASHINGTON (Reuters) - Transgender people will...</td>\n",
       "      <td>True</td>\n",
       "    </tr>\n",
       "    <tr>\n",
       "      <th>2</th>\n",
       "      <td>Senior U.S. Republican senator: 'Let Mr. Muell...</td>\n",
       "      <td>WASHINGTON (Reuters) - The special counsel inv...</td>\n",
       "      <td>True</td>\n",
       "    </tr>\n",
       "    <tr>\n",
       "      <th>3</th>\n",
       "      <td>FBI Russia probe helped by Australian diplomat...</td>\n",
       "      <td>WASHINGTON (Reuters) - Trump campaign adviser ...</td>\n",
       "      <td>True</td>\n",
       "    </tr>\n",
       "    <tr>\n",
       "      <th>4</th>\n",
       "      <td>Trump wants Postal Service to charge 'much mor...</td>\n",
       "      <td>SEATTLE/WASHINGTON (Reuters) - President Donal...</td>\n",
       "      <td>True</td>\n",
       "    </tr>\n",
       "  </tbody>\n",
       "</table>\n",
       "</div>"
      ],
      "text/plain": [
       "                                               title  \\\n",
       "0  As U.S. budget fight looms, Republicans flip t...   \n",
       "1  U.S. military to accept transgender recruits o...   \n",
       "2  Senior U.S. Republican senator: 'Let Mr. Muell...   \n",
       "3  FBI Russia probe helped by Australian diplomat...   \n",
       "4  Trump wants Postal Service to charge 'much mor...   \n",
       "\n",
       "                                                text label  \n",
       "0  WASHINGTON (Reuters) - The head of a conservat...  True  \n",
       "1  WASHINGTON (Reuters) - Transgender people will...  True  \n",
       "2  WASHINGTON (Reuters) - The special counsel inv...  True  \n",
       "3  WASHINGTON (Reuters) - Trump campaign adviser ...  True  \n",
       "4  SEATTLE/WASHINGTON (Reuters) - President Donal...  True  "
      ]
     },
     "execution_count": 3,
     "metadata": {},
     "output_type": "execute_result"
    }
   ],
   "source": [
    "data.head()"
   ]
  },
  {
   "cell_type": "code",
   "execution_count": 29,
   "metadata": {
    "hideCode": false,
    "hidePrompt": false
   },
   "outputs": [
    {
     "data": {
      "text/markdown": [
       "**Title:** Trump versus Jeb in New Hampshire on day before crucial primary"
      ],
      "text/plain": [
       "<IPython.core.display.Markdown object>"
      ]
     },
     "metadata": {},
     "output_type": "display_data"
    },
    {
     "data": {
      "text/markdown": [
       "**Label:** True"
      ],
      "text/plain": [
       "<IPython.core.display.Markdown object>"
      ]
     },
     "metadata": {},
     "output_type": "display_data"
    },
    {
     "data": {
      "text/markdown": [
       "**Text:** MANCHESTER, N.H. (Reuters) - White House hopefuls Donald Trump and Jeb Bush opened political hostilities on Monday as Republican and Democratic candidates stormed across New Hampshire in a final flurry of events before the state’s crucial first-in-the-nation primary. The stage was set for the vote on Tuesday, with New York billionaire Trump enjoying a big lead in opinion polls of the state’s Republican voters and a host of rivals jockeying to emerge as his chief challenger for the Republican presidential nomination in the Nov. 8 election. In the race for the Democratic nomination, Senator Bernie Sanders from neighboring Vermont sought to hang on for a much-needed victory over former Secretary of State Hillary Clinton a week after a razor-thin loss to her in the Iowa caucuses. Sanders told a crowd of about 500 people in Nashua that his call to eradicate income inequality and level the economic playing field for lower- and middle-class workers was resonating. “I’m here today to ask your ... (*max_characters* = 1000)"
      ],
      "text/plain": [
       "<IPython.core.display.Markdown object>"
      ]
     },
     "metadata": {},
     "output_type": "display_data"
    }
   ],
   "source": [
    "display_random_article(data)"
   ]
  },
  {
   "cell_type": "markdown",
   "metadata": {
    "hideCode": false,
    "hidePrompt": false
   },
   "source": [
    "### III. Text preprocessing"
   ]
  },
  {
   "cell_type": "markdown",
   "metadata": {
    "hideCode": false,
    "hidePrompt": false
   },
   "source": [
    "Main steps in text processing detailed in utils_text.py"
   ]
  },
  {
   "cell_type": "code",
   "execution_count": 5,
   "metadata": {
    "hideCode": false,
    "hidePrompt": false
   },
   "outputs": [
    {
     "name": "stdout",
     "output_type": "stream",
     "text": [
      "[nltk_data] Downloading package stopwords to\n",
      "[nltk_data]     /home/ec2-user/nltk_data...\n",
      "[nltk_data]   Package stopwords is already up-to-date!\n",
      "[nltk_data] Downloading package wordnet to /home/ec2-user/nltk_data...\n",
      "[nltk_data]   Package wordnet is already up-to-date!\n"
     ]
    },
    {
     "data": {
      "text/plain": [
       "True"
      ]
     },
     "execution_count": 5,
     "metadata": {},
     "output_type": "execute_result"
    }
   ],
   "source": [
    "import nltk\n",
    "from utils.utils_text import transform\n",
    "\n",
    "nltk.download('stopwords')\n",
    "nltk.download('wordnet')"
   ]
  },
  {
   "cell_type": "code",
   "execution_count": 6,
   "metadata": {
    "hideCode": false,
    "hidePrompt": false
   },
   "outputs": [],
   "source": [
    "text = random.choice(data['text'])[:1000]"
   ]
  },
  {
   "cell_type": "code",
   "execution_count": 7,
   "metadata": {
    "hideCode": false,
    "hidePrompt": false
   },
   "outputs": [
    {
     "name": "stdout",
     "output_type": "stream",
     "text": [
      "ROME (Reuters) - Italy s anti-establishment 5-Star Movement pummeled a center-right coalition to govern Ostia, one of Rome s largest neighborhoods, in a run-off vote that confirms the 5-Star s strength months away from a national election. Five-Star s Giuliana Di Pillo took 60 percent of the vote, doubling her first-round result, against 40 percent for the center-right s Monica Picca in a closely watched contest that comes just months before a national election. The result shows the legal troubles that have plagued the administration of Rome s 5-Star mayor, Virginia Raggi, since her election in June of last year have not dampened the maverick party s popularity in the capital.  There is a Raggi effect and it s positive,  Luigi Di Maio, the 5-Star prime minister candidate, wrote on Twitter.  In Rome we continue to win even against a coalition of five center-right forces.  The 5-Star is Italy s most-popular party ahead of a national vote due between March and May, while the ruling Democr\n"
     ]
    }
   ],
   "source": [
    "print(text)"
   ]
  },
  {
   "cell_type": "code",
   "execution_count": 8,
   "metadata": {
    "hideCode": false,
    "hidePrompt": false
   },
   "outputs": [
    {
     "name": "stdout",
     "output_type": "stream",
     "text": [
      "['rome', 'reuters', 'italy', 'anti', 'establishment', 'digit_token', 'star', 'movement', 'pummeled', 'center', 'right', 'coalition', 'govern', 'ostia', 'one', 'rome', 'largest', 'neighborhood', 'run', 'vote', 'confirms', 'digit_token', 'star', 'strength', 'month', 'away', 'national', 'election', 'five', 'star', 'giuliana', 'di', 'pillo', 'took', 'digit_token', 'percent', 'vote', 'doubling', 'first', 'round', 'result', 'digit_token', 'percent', 'center', 'right', 'monica', 'picca', 'closely', 'watched', 'contest', 'come', 'month', 'national', 'election', 'result', 'show', 'legal', 'trouble', 'plagued', 'administration', 'rome', 'digit_token', 'star', 'mayor', 'virginia', 'raggi', 'since', 'election', 'june', 'last', 'year', 'dampened', 'maverick', 'party', 'popularity', 'capital', 'raggi', 'effect', 'positive', 'luigi', 'di', 'maio', 'digit_token', 'star', 'prime', 'minister', 'candidate', 'wrote', 'twitter', 'rome', 'continue', 'win', 'even', 'coalition', 'five', 'center', 'right', 'force', 'digit_token', 'star', 'italy', 'popular', 'party', 'ahead', 'national', 'vote', 'due', 'march', 'may', 'ruling', 'democr']\n"
     ]
    }
   ],
   "source": [
    "print(transform(text))"
   ]
  },
  {
   "cell_type": "markdown",
   "metadata": {
    "hideCode": false,
    "hidePrompt": false
   },
   "source": [
    "#### Processing Dataframe"
   ]
  },
  {
   "cell_type": "code",
   "execution_count": 9,
   "metadata": {
    "hideCode": false,
    "hidePrompt": false
   },
   "outputs": [],
   "source": [
    "def processing_text_df(block):\n",
    "    fulltext = \" \".join(block)\n",
    "    return \" \".join(transform(fulltext))\n",
    "\n",
    "def get_indices(N, proportions):\n",
    "    assert sum(proportions) == 1\n",
    "    indices = np.random.choice(N, replace = False, size = N)\n",
    "    ind1 = int(N*proportions[0])\n",
    "    ind2 = int(N*proportions[0]) + int(N*proportions[1])\n",
    "    return indices[:ind1], indices[ind1:ind2], indices[ind2:]"
   ]
  },
  {
   "cell_type": "code",
   "execution_count": 10,
   "metadata": {
    "hideCode": false,
    "hidePrompt": false
   },
   "outputs": [],
   "source": [
    "# Slow operation will save dataframe for future use.\n",
    "# data['processed'] = data[['title','text']].apply(lambda x : processing_text_df(x),axis=1)\n",
    "# data.head() "
   ]
  },
  {
   "cell_type": "code",
   "execution_count": 11,
   "metadata": {
    "hideCode": false,
    "hidePrompt": false
   },
   "outputs": [],
   "source": [
    "#data.to_csv('./data/cleandata/data.csv',index = False)"
   ]
  },
  {
   "cell_type": "code",
   "execution_count": 12,
   "metadata": {
    "hideCode": false,
    "hidePrompt": false
   },
   "outputs": [],
   "source": [
    "#indtrain,indval,indtest = get_indices(len(data),proportions = [0.8,0.1,0.1])"
   ]
  },
  {
   "cell_type": "code",
   "execution_count": 13,
   "metadata": {
    "hideCode": false,
    "hidePrompt": false
   },
   "outputs": [],
   "source": [
    "#data.loc[indtrain].to_csv('./cleandata/train.csv',index = False)\n",
    "#data.loc[indval].to_csv('./cleandata/validation.csv',index = False)\n",
    "#data.loc[indtest].to_csv('./cleandata/test.csv',index = False)"
   ]
  },
  {
   "cell_type": "code",
   "execution_count": 14,
   "metadata": {
    "hideCode": false,
    "hidePrompt": false
   },
   "outputs": [
    {
     "data": {
      "text/html": [
       "<div>\n",
       "<style scoped>\n",
       "    .dataframe tbody tr th:only-of-type {\n",
       "        vertical-align: middle;\n",
       "    }\n",
       "\n",
       "    .dataframe tbody tr th {\n",
       "        vertical-align: top;\n",
       "    }\n",
       "\n",
       "    .dataframe thead th {\n",
       "        text-align: right;\n",
       "    }\n",
       "</style>\n",
       "<table border=\"1\" class=\"dataframe\">\n",
       "  <thead>\n",
       "    <tr style=\"text-align: right;\">\n",
       "      <th></th>\n",
       "      <th>title</th>\n",
       "      <th>text</th>\n",
       "      <th>label</th>\n",
       "      <th>processed</th>\n",
       "    </tr>\n",
       "  </thead>\n",
       "  <tbody>\n",
       "    <tr>\n",
       "      <th>0</th>\n",
       "      <td>As U.S. budget fight looms, Republicans flip t...</td>\n",
       "      <td>WASHINGTON (Reuters) - The head of a conservat...</td>\n",
       "      <td>True</td>\n",
       "      <td>budget fight loom republican flip fiscal scrip...</td>\n",
       "    </tr>\n",
       "    <tr>\n",
       "      <th>1</th>\n",
       "      <td>U.S. military to accept transgender recruits o...</td>\n",
       "      <td>WASHINGTON (Reuters) - Transgender people will...</td>\n",
       "      <td>True</td>\n",
       "      <td>military accept transgender recruit monday pen...</td>\n",
       "    </tr>\n",
       "    <tr>\n",
       "      <th>2</th>\n",
       "      <td>Senior U.S. Republican senator: 'Let Mr. Muell...</td>\n",
       "      <td>WASHINGTON (Reuters) - The special counsel inv...</td>\n",
       "      <td>True</td>\n",
       "      <td>senior republican senator let mr mueller job w...</td>\n",
       "    </tr>\n",
       "    <tr>\n",
       "      <th>3</th>\n",
       "      <td>FBI Russia probe helped by Australian diplomat...</td>\n",
       "      <td>WASHINGTON (Reuters) - Trump campaign adviser ...</td>\n",
       "      <td>True</td>\n",
       "      <td>fbi russia probe helped australian diplomat ti...</td>\n",
       "    </tr>\n",
       "    <tr>\n",
       "      <th>4</th>\n",
       "      <td>Trump wants Postal Service to charge 'much mor...</td>\n",
       "      <td>SEATTLE/WASHINGTON (Reuters) - President Donal...</td>\n",
       "      <td>True</td>\n",
       "      <td>trump want postal service charge much amazon s...</td>\n",
       "    </tr>\n",
       "  </tbody>\n",
       "</table>\n",
       "</div>"
      ],
      "text/plain": [
       "                                               title  \\\n",
       "0  As U.S. budget fight looms, Republicans flip t...   \n",
       "1  U.S. military to accept transgender recruits o...   \n",
       "2  Senior U.S. Republican senator: 'Let Mr. Muell...   \n",
       "3  FBI Russia probe helped by Australian diplomat...   \n",
       "4  Trump wants Postal Service to charge 'much mor...   \n",
       "\n",
       "                                                text label  \\\n",
       "0  WASHINGTON (Reuters) - The head of a conservat...  True   \n",
       "1  WASHINGTON (Reuters) - Transgender people will...  True   \n",
       "2  WASHINGTON (Reuters) - The special counsel inv...  True   \n",
       "3  WASHINGTON (Reuters) - Trump campaign adviser ...  True   \n",
       "4  SEATTLE/WASHINGTON (Reuters) - President Donal...  True   \n",
       "\n",
       "                                           processed  \n",
       "0  budget fight loom republican flip fiscal scrip...  \n",
       "1  military accept transgender recruit monday pen...  \n",
       "2  senior republican senator let mr mueller job w...  \n",
       "3  fbi russia probe helped australian diplomat ti...  \n",
       "4  trump want postal service charge much amazon s...  "
      ]
     },
     "execution_count": 14,
     "metadata": {},
     "output_type": "execute_result"
    }
   ],
   "source": [
    "data = pd.read_csv('./data/cleandata/data.csv')\n",
    "data.head()"
   ]
  },
  {
   "cell_type": "markdown",
   "metadata": {
    "hideCode": false,
    "hidePrompt": false
   },
   "source": [
    "#### Most common words"
   ]
  },
  {
   "cell_type": "code",
   "execution_count": 15,
   "metadata": {
    "hideCode": false,
    "hidePrompt": false
   },
   "outputs": [],
   "source": [
    "import seaborn as sns\n",
    "import matplotlib.pyplot as plt"
   ]
  },
  {
   "cell_type": "code",
   "execution_count": 16,
   "metadata": {
    "hideCode": false,
    "hidePrompt": false
   },
   "outputs": [],
   "source": [
    "from collections import Counter\n",
    "true = Counter()\n",
    "fake = Counter()\n",
    "\n",
    "for sentence,label in zip(data['processed'],data['label']):\n",
    "    words = sentence.split()\n",
    "    if label == 'True':\n",
    "        true.update(words)\n",
    "    else:\n",
    "        fake.update(words)"
   ]
  },
  {
   "cell_type": "code",
   "execution_count": 17,
   "metadata": {
    "hideCode": false,
    "hidePrompt": false
   },
   "outputs": [
    {
     "data": {
      "image/png": "[encoded data removed]",
      "text/plain": [
       "<Figure size 792x360 with 2 Axes>"
      ]
     },
     "metadata": {},
     "output_type": "display_data"
    }
   ],
   "source": [
    "plt.rcParams['figure.figsize']=(11,5)\n",
    "plt.subplot(1,2,1)\n",
    "plt.title('20 most common words for True news')\n",
    "plt.grid(True)\n",
    "bar1 = sns.barplot(x=np.array(true.most_common(20))[:,1].astype('float32'),y=np.array(true.most_common(20))[:,0])\n",
    "\n",
    "plt.subplot(1,2,2)\n",
    "plt.title('20 most common words for Fake news')\n",
    "plt.grid(True)\n",
    "bar2 = sns.barplot(x=np.array(fake.most_common(20))[:,1].astype('float32'),y=np.array(fake.most_common(20))[:,0])\n",
    "bar2.invert_xaxis()\n",
    "bar2.yaxis.tick_right()\n",
    "plt.show()\n",
    "#plt.savefig('./images/barplot_wordcount.pdf',bbox_inches='tight')"
   ]
  },
  {
   "cell_type": "markdown",
   "metadata": {
    "hideCode": false,
    "hidePrompt": false
   },
   "source": [
    "#### Feature importance and selection : identitfying important tokens"
   ]
  },
  {
   "cell_type": "markdown",
   "metadata": {
    "hideCode": false,
    "hidePrompt": false
   },
   "source": [
    "Here we partly follow the methodology proposed at : https://towardsdatascience.com/feature-selection-using-regularisation-a3678b71e499"
   ]
  },
  {
   "cell_type": "code",
   "execution_count": 18,
   "metadata": {
    "hideCode": false,
    "hidePrompt": false
   },
   "outputs": [],
   "source": [
    "from sklearn.linear_model import Lasso, LogisticRegression\n",
    "from sklearn.feature_selection import SelectFromModel\n",
    "from sklearn.preprocessing import StandardScaler\n",
    "from sklearn.feature_extraction.text import CountVectorizer"
   ]
  },
  {
   "cell_type": "code",
   "execution_count": 19,
   "metadata": {
    "hideCode": false,
    "hidePrompt": false
   },
   "outputs": [],
   "source": [
    "CV = CountVectorizer(max_features=5000,preprocessor=lambda x: x, ngram_range=(1,1))"
   ]
  },
  {
   "cell_type": "code",
   "execution_count": 20,
   "metadata": {
    "hideCode": false,
    "hidePrompt": false
   },
   "outputs": [],
   "source": [
    "X = CV.fit_transform(data['processed'])"
   ]
  },
  {
   "cell_type": "code",
   "execution_count": 21,
   "metadata": {
    "hideCode": false,
    "hidePrompt": false
   },
   "outputs": [],
   "source": [
    "y = np.array([(lab=='True') * 1 for lab in data['label']])"
   ]
  },
  {
   "cell_type": "code",
   "execution_count": 22,
   "metadata": {
    "hideCode": false,
    "hidePrompt": false
   },
   "outputs": [],
   "source": [
    "vocabulary = CV.vocabulary_"
   ]
  },
  {
   "cell_type": "code",
   "execution_count": 23,
   "metadata": {
    "hideCode": false,
    "hidePrompt": false
   },
   "outputs": [],
   "source": [
    "scaler = StandardScaler()"
   ]
  },
  {
   "cell_type": "code",
   "execution_count": 24,
   "metadata": {
    "hideCode": false,
    "hidePrompt": false
   },
   "outputs": [
    {
     "name": "stderr",
     "output_type": "stream",
     "text": [
      "/home/ec2-user/anaconda3/envs/amazonei_mxnet_p36/lib/python3.6/site-packages/sklearn/linear_model/sag.py:334: ConvergenceWarning: The max_iter was reached which means the coef_ did not converge\n",
      "  \"the coef_ did not converge\", ConvergenceWarning)\n"
     ]
    },
    {
     "data": {
      "text/plain": [
       "SelectFromModel(estimator=LogisticRegression(C=0.01, class_weight=None, dual=False, fit_intercept=True,\n",
       "          intercept_scaling=1, max_iter=100, multi_class='warn',\n",
       "          n_jobs=None, penalty='l1', random_state=None, solver='saga',\n",
       "          tol=0.0001, verbose=0, warm_start=False),\n",
       "        max_features=None, norm_order=1, prefit=False, threshold=None)"
      ]
     },
     "execution_count": 24,
     "metadata": {},
     "output_type": "execute_result"
    }
   ],
   "source": [
    "selection = SelectFromModel(LogisticRegression(C=0.01, penalty='l1',solver='saga'))\n",
    "selection.fit(X, y)"
   ]
  },
  {
   "cell_type": "code",
   "execution_count": 25,
   "metadata": {
    "hideCode": false,
    "hidePrompt": false
   },
   "outputs": [],
   "source": [
    "decisive_words = np.array(list(vocabulary.keys()))[selection.get_support()]"
   ]
  },
  {
   "cell_type": "code",
   "execution_count": 26,
   "metadata": {
    "hideCode": false,
    "hidePrompt": false
   },
   "outputs": [],
   "source": [
    "freq_decisive_words = dict(zip(decisive_words,[vocabulary[key] for key in decisive_words]))\n",
    "freq_decisive_words = Counter(freq_decisive_words)"
   ]
  },
  {
   "cell_type": "code",
   "execution_count": 27,
   "metadata": {
    "hideCode": false,
    "hidePrompt": false
   },
   "outputs": [],
   "source": [
    "sub = np.random.choice(list(freq_decisive_words.keys()),replace=False,size=30)\n",
    "subselect = np.array([[key,freq_decisive_words[key]] for key in sub])"
   ]
  },
  {
   "cell_type": "code",
   "execution_count": 28,
   "metadata": {
    "hideCode": false,
    "hidePrompt": false
   },
   "outputs": [
    {
     "data": {
      "image/png": "[encoded data removed]",
      "text/plain": [
       "<Figure size 720x360 with 1 Axes>"
      ]
     },
     "metadata": {},
     "output_type": "display_data"
    }
   ],
   "source": [
    "plt.rcParams['figure.figsize']= (10,5)\n",
    "bar1 = sns.barplot(x=subselect[:,1].astype('float32'),y=subselect[:,0])\n",
    "plt.grid(True)\n",
    "plt.show()\n",
    "#plt.savefig('./images/count_words_decisive.pdf')"
   ]
  },
  {
   "cell_type": "markdown",
   "metadata": {
    "hideCode": false,
    "hidePrompt": false
   },
   "source": [
    "#### Fun Plot"
   ]
  },
  {
   "cell_type": "markdown",
   "metadata": {},
   "source": [
    "The code provided below has been tested. The limit instance at the time of generating the word cloud was not large enough. Hence, we generate the code on our local machine."
   ]
  },
  {
   "cell_type": "code",
   "execution_count": null,
   "metadata": {},
   "outputs": [],
   "source": [
    "#!pip install wordcloud"
   ]
  },
  {
   "cell_type": "code",
   "execution_count": null,
   "metadata": {
    "hideCode": false,
    "hidePrompt": false
   },
   "outputs": [],
   "source": [
    "from wordcloud import WordCloud\n",
    "import matplotlib.pyplot as plt\n",
    "from utils.utils_display import load_data\n",
    "from collections import Counter\n",
    "import pandas as pd"
   ]
  },
  {
   "cell_type": "code",
   "execution_count": null,
   "metadata": {
    "hideCode": false,
    "hidePrompt": false
   },
   "outputs": [],
   "source": [
    "data = pd.read_csv('./data/cleandata/data.csv')"
   ]
  },
  {
   "cell_type": "code",
   "execution_count": null,
   "metadata": {
    "hideCode": false,
    "hidePrompt": false
   },
   "outputs": [],
   "source": [
    "def remove_token_string(data):\n",
    "    words = (' '.join(data['processed'])).split()\n",
    "    return \" \".join([word for word in words if '_token' not in word])"
   ]
  },
  {
   "cell_type": "code",
   "execution_count": null,
   "metadata": {
    "hideCode": false,
    "hidePrompt": false
   },
   "outputs": [],
   "source": [
    "text = remove_token_string(data)"
   ]
  },
  {
   "cell_type": "code",
   "execution_count": null,
   "metadata": {
    "hideCode": false,
    "hidePrompt": false
   },
   "outputs": [],
   "source": [
    "wordcloud = WordCloud(width=700,height=300,background_color='white').generate(text = text)"
   ]
  },
  {
   "cell_type": "code",
   "execution_count": null,
   "metadata": {
    "hideCode": false,
    "hidePrompt": false
   },
   "outputs": [],
   "source": [
    "plt.rcParams['figure.figsize'] = (20,10)\n",
    "plt.imshow(wordcloud)\n",
    "plt.show()"
   ]
  },
  {
   "cell_type": "code",
   "execution_count": null,
   "metadata": {
    "hideCode": false,
    "hidePrompt": false
   },
   "outputs": [],
   "source": [
    "wordcloud.to_file('./images/wordcloud.pdf')"
   ]
  }
 ],
 "metadata": {
  "hide_code_all_hidden": false,
  "kernelspec": {
   "display_name": "conda_amazonei_mxnet_p36",
   "language": "python",
   "name": "conda_amazonei_mxnet_p36"
  },
  "language_info": {
   "codemirror_mode": {
    "name": "ipython",
    "version": 3
   },
   "file_extension": ".py",
   "mimetype": "text/x-python",
   "name": "python",
   "nbconvert_exporter": "python",
   "pygments_lexer": "ipython3",
   "version": "3.6.5"
  }
 },
 "nbformat": 4,
 "nbformat_minor": 4
}
