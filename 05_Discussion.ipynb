{
 "cells": [
  {
   "cell_type": "markdown",
   "metadata": {},
   "source": [
    "<center> <h2> Discussion </h2> </center> "
   ]
  },
  {
   "cell_type": "markdown",
   "metadata": {},
   "source": [
    "#### Libraries"
   ]
  },
  {
   "cell_type": "code",
   "execution_count": 8,
   "metadata": {},
   "outputs": [],
   "source": [
    "import os, re \n",
    "import pickle\n",
    "import numpy as np\n",
    "import pandas as pd\n",
    "import matplotlib.pyplot as plt"
   ]
  },
  {
   "cell_type": "markdown",
   "metadata": {},
   "source": [
    "### I. Loading the data"
   ]
  },
  {
   "cell_type": "code",
   "execution_count": 9,
   "metadata": {},
   "outputs": [
    {
     "name": "stderr",
     "output_type": "stream",
     "text": [
      "/home/ec2-user/anaconda3/envs/mxnet_p36/lib/python3.6/site-packages/sklearn/base.py:318: UserWarning: Trying to unpickle estimator TfidfTransformer from version 0.19.1 when using version 0.22.1. This might lead to breaking code or invalid results. Use at your own risk.\n",
      "  UserWarning)\n",
      "/home/ec2-user/anaconda3/envs/mxnet_p36/lib/python3.6/site-packages/sklearn/base.py:318: UserWarning: Trying to unpickle estimator TfidfVectorizer from version 0.19.1 when using version 0.22.1. This might lead to breaking code or invalid results. Use at your own risk.\n",
      "  UserWarning)\n"
     ]
    }
   ],
   "source": [
    "def identity(x):\n",
    "    return x\n",
    "\n",
    "def tokenizetmp(x):\n",
    "    return x.split()\n",
    "\n",
    "with open('benchmark_artifacts.pickle', 'rb') as handle:\n",
    "    benchmark = pickle.load(handle)"
   ]
  },
  {
   "cell_type": "code",
   "execution_count": 10,
   "metadata": {},
   "outputs": [],
   "source": [
    "indtrain = benchmark['indtrain']\n",
    "tfidf = benchmark['tfidf-estimator']\n",
    "data = pd.read_csv('./cleandata/data.csv')\n",
    "train = data.loc[indtrain].copy()\n",
    "x_train = tfidf.transform(train['processed']).toarray().astype('float32')\n",
    "y_train = np.array([(x=='True')*1 for x in train['label']]).astype('float32')\n",
    "data = train = None"
   ]
  },
  {
   "cell_type": "code",
   "execution_count": 12,
   "metadata": {},
   "outputs": [],
   "source": [
    "train = pd.concat([pd.DataFrame(y_train,columns=['target_label']),\n",
    "                   pd.DataFrame(x_train,columns=tfidf.vocabulary_)],axis=1)"
   ]
  },
  {
   "cell_type": "code",
   "execution_count": 14,
   "metadata": {},
   "outputs": [],
   "source": [
    "x_train = y_train = None"
   ]
  },
  {
   "cell_type": "code",
   "execution_count": 15,
   "metadata": {},
   "outputs": [
    {
     "data": {
      "text/html": [
       "<div>\n",
       "<style scoped>\n",
       "    .dataframe tbody tr th:only-of-type {\n",
       "        vertical-align: middle;\n",
       "    }\n",
       "\n",
       "    .dataframe tbody tr th {\n",
       "        vertical-align: top;\n",
       "    }\n",
       "\n",
       "    .dataframe thead th {\n",
       "        text-align: right;\n",
       "    }\n",
       "</style>\n",
       "<table border=\"1\" class=\"dataframe\">\n",
       "  <thead>\n",
       "    <tr style=\"text-align: right;\">\n",
       "      <th></th>\n",
       "      <th>target_label</th>\n",
       "      <th>digit_token</th>\n",
       "      <th>trump</th>\n",
       "      <th>said</th>\n",
       "      <th>state</th>\n",
       "      <th>president</th>\n",
       "      <th>would</th>\n",
       "      <th>people</th>\n",
       "      <th>year</th>\n",
       "      <th>republican</th>\n",
       "      <th>...</th>\n",
       "      <th>homeless</th>\n",
       "      <th>discriminate</th>\n",
       "      <th>semi</th>\n",
       "      <th>dyer</th>\n",
       "      <th>restructuring</th>\n",
       "      <th>prohibited</th>\n",
       "      <th>coordinate</th>\n",
       "      <th>centrist</th>\n",
       "      <th>sway</th>\n",
       "      <th>espionage</th>\n",
       "    </tr>\n",
       "  </thead>\n",
       "  <tbody>\n",
       "    <tr>\n",
       "      <th>0</th>\n",
       "      <td>1.0</td>\n",
       "      <td>0.040589</td>\n",
       "      <td>0.037359</td>\n",
       "      <td>0.101937</td>\n",
       "      <td>0.076857</td>\n",
       "      <td>0.054462</td>\n",
       "      <td>0.055709</td>\n",
       "      <td>0.000000</td>\n",
       "      <td>0.0</td>\n",
       "      <td>0.000000</td>\n",
       "      <td>...</td>\n",
       "      <td>0.0</td>\n",
       "      <td>0.0</td>\n",
       "      <td>0.0</td>\n",
       "      <td>0.0</td>\n",
       "      <td>0.0</td>\n",
       "      <td>0.0</td>\n",
       "      <td>0.0</td>\n",
       "      <td>0.0</td>\n",
       "      <td>0.0</td>\n",
       "      <td>0.0</td>\n",
       "    </tr>\n",
       "    <tr>\n",
       "      <th>1</th>\n",
       "      <td>0.0</td>\n",
       "      <td>0.000000</td>\n",
       "      <td>0.109916</td>\n",
       "      <td>0.028563</td>\n",
       "      <td>0.037687</td>\n",
       "      <td>0.071215</td>\n",
       "      <td>0.072845</td>\n",
       "      <td>0.040068</td>\n",
       "      <td>0.0</td>\n",
       "      <td>0.000000</td>\n",
       "      <td>...</td>\n",
       "      <td>0.0</td>\n",
       "      <td>0.0</td>\n",
       "      <td>0.0</td>\n",
       "      <td>0.0</td>\n",
       "      <td>0.0</td>\n",
       "      <td>0.0</td>\n",
       "      <td>0.0</td>\n",
       "      <td>0.0</td>\n",
       "      <td>0.0</td>\n",
       "      <td>0.0</td>\n",
       "    </tr>\n",
       "    <tr>\n",
       "      <th>2</th>\n",
       "      <td>1.0</td>\n",
       "      <td>0.125568</td>\n",
       "      <td>0.123832</td>\n",
       "      <td>0.019308</td>\n",
       "      <td>0.050950</td>\n",
       "      <td>0.000000</td>\n",
       "      <td>0.098482</td>\n",
       "      <td>0.027084</td>\n",
       "      <td>0.0</td>\n",
       "      <td>0.097095</td>\n",
       "      <td>...</td>\n",
       "      <td>0.0</td>\n",
       "      <td>0.0</td>\n",
       "      <td>0.0</td>\n",
       "      <td>0.0</td>\n",
       "      <td>0.0</td>\n",
       "      <td>0.0</td>\n",
       "      <td>0.0</td>\n",
       "      <td>0.0</td>\n",
       "      <td>0.0</td>\n",
       "      <td>0.0</td>\n",
       "    </tr>\n",
       "    <tr>\n",
       "      <th>3</th>\n",
       "      <td>1.0</td>\n",
       "      <td>0.000000</td>\n",
       "      <td>0.000000</td>\n",
       "      <td>0.038559</td>\n",
       "      <td>0.050877</td>\n",
       "      <td>0.048069</td>\n",
       "      <td>0.000000</td>\n",
       "      <td>0.054090</td>\n",
       "      <td>0.0</td>\n",
       "      <td>0.000000</td>\n",
       "      <td>...</td>\n",
       "      <td>0.0</td>\n",
       "      <td>0.0</td>\n",
       "      <td>0.0</td>\n",
       "      <td>0.0</td>\n",
       "      <td>0.0</td>\n",
       "      <td>0.0</td>\n",
       "      <td>0.0</td>\n",
       "      <td>0.0</td>\n",
       "      <td>0.0</td>\n",
       "      <td>0.0</td>\n",
       "    </tr>\n",
       "    <tr>\n",
       "      <th>4</th>\n",
       "      <td>0.0</td>\n",
       "      <td>0.046693</td>\n",
       "      <td>0.000000</td>\n",
       "      <td>0.000000</td>\n",
       "      <td>0.000000</td>\n",
       "      <td>0.000000</td>\n",
       "      <td>0.000000</td>\n",
       "      <td>0.000000</td>\n",
       "      <td>0.0</td>\n",
       "      <td>0.000000</td>\n",
       "      <td>...</td>\n",
       "      <td>0.0</td>\n",
       "      <td>0.0</td>\n",
       "      <td>0.0</td>\n",
       "      <td>0.0</td>\n",
       "      <td>0.0</td>\n",
       "      <td>0.0</td>\n",
       "      <td>0.0</td>\n",
       "      <td>0.0</td>\n",
       "      <td>0.0</td>\n",
       "      <td>0.0</td>\n",
       "    </tr>\n",
       "  </tbody>\n",
       "</table>\n",
       "<p>5 rows × 5001 columns</p>\n",
       "</div>"
      ],
      "text/plain": [
       "   target_label  digit_token     trump      said     state  president  \\\n",
       "0           1.0     0.040589  0.037359  0.101937  0.076857   0.054462   \n",
       "1           0.0     0.000000  0.109916  0.028563  0.037687   0.071215   \n",
       "2           1.0     0.125568  0.123832  0.019308  0.050950   0.000000   \n",
       "3           1.0     0.000000  0.000000  0.038559  0.050877   0.048069   \n",
       "4           0.0     0.046693  0.000000  0.000000  0.000000   0.000000   \n",
       "\n",
       "      would    people  year  republican  ...  homeless  discriminate  semi  \\\n",
       "0  0.055709  0.000000   0.0    0.000000  ...       0.0           0.0   0.0   \n",
       "1  0.072845  0.040068   0.0    0.000000  ...       0.0           0.0   0.0   \n",
       "2  0.098482  0.027084   0.0    0.097095  ...       0.0           0.0   0.0   \n",
       "3  0.000000  0.054090   0.0    0.000000  ...       0.0           0.0   0.0   \n",
       "4  0.000000  0.000000   0.0    0.000000  ...       0.0           0.0   0.0   \n",
       "\n",
       "   dyer  restructuring  prohibited  coordinate  centrist  sway  espionage  \n",
       "0   0.0            0.0         0.0         0.0       0.0   0.0        0.0  \n",
       "1   0.0            0.0         0.0         0.0       0.0   0.0        0.0  \n",
       "2   0.0            0.0         0.0         0.0       0.0   0.0        0.0  \n",
       "3   0.0            0.0         0.0         0.0       0.0   0.0        0.0  \n",
       "4   0.0            0.0         0.0         0.0       0.0   0.0        0.0  \n",
       "\n",
       "[5 rows x 5001 columns]"
      ]
     },
     "execution_count": 15,
     "metadata": {},
     "output_type": "execute_result"
    }
   ],
   "source": [
    "train.head()"
   ]
  },
  {
   "cell_type": "markdown",
   "metadata": {},
   "source": [
    "### II. Highly Separable Data ?"
   ]
  },
  {
   "cell_type": "markdown",
   "metadata": {},
   "source": [
    "#### Projection of BOW features"
   ]
  },
  {
   "cell_type": "code",
   "execution_count": 37,
   "metadata": {},
   "outputs": [],
   "source": [
    "import seaborn as sns\n",
    "from sklearn.manifold import TSNE"
   ]
  },
  {
   "cell_type": "code",
   "execution_count": 71,
   "metadata": {},
   "outputs": [],
   "source": [
    "train1 = train[train['target_label']==1].iloc[:250,1:]\n",
    "train2 = train[train['target_label']==0].iloc[:250,1:]\n",
    "subdata = pd.concat([train1,train2],axis=0)"
   ]
  },
  {
   "cell_type": "code",
   "execution_count": 72,
   "metadata": {},
   "outputs": [],
   "source": [
    "tsne = TSNE(2)\n",
    "projection = tsne.fit_transform(subdata)"
   ]
  },
  {
   "cell_type": "code",
   "execution_count": 82,
   "metadata": {},
   "outputs": [],
   "source": [
    "df = np.concatenate([projection[:250],projection[250:]],axis=1)\n",
    "df = pd.DataFrame(df,columns=['x','y','w','z'])"
   ]
  },
  {
   "cell_type": "code",
   "execution_count": 85,
   "metadata": {},
   "outputs": [
    {
     "data": {
      "image/png": "[encoded data removed]",
      "text/plain": [
       "<Figure size 432x432 with 3 Axes>"
      ]
     },
     "metadata": {
      "needs_background": "light"
     },
     "output_type": "display_data"
    }
   ],
   "source": [
    "p = sns.JointGrid(x = df['x'],y = df['y'])\n",
    "p = p.plot_joint(plt.scatter)\n",
    "def scatter(*args, **kwargs):\n",
    "    args = (df['w'], df['z'])\n",
    "    kwargs['alpha'] = 0.5\n",
    "    plt.scatter(*args, **kwargs)\n",
    "p = p.plot_joint(scatter)\n",
    "p.ax_marg_x.hist(df['x'],alpha = 0.5)\n",
    "p.ax_marg_y.hist(df['y'],orientation = 'horizontal',alpha = 0.5)\n",
    "p.ax_marg_x.hist(df['w'],alpha = 0.5,range = (np.min(df['x']), np.max(df['x'])))\n",
    "p.ax_marg_y.hist(df['z'],orientation = 'horizontal',alpha = 0.5,range = (np.min(df['y']), np.max(df['y'])))\n",
    "plt.grid(True)\n",
    "plt.show()\n",
    "#plt.savefig('./images/jointplot_projection.pdf',bbox_inches='tight')"
   ]
  },
  {
   "cell_type": "code",
   "execution_count": 89,
   "metadata": {},
   "outputs": [],
   "source": [
    "train = train1 = train2 = subdata = None"
   ]
  },
  {
   "cell_type": "markdown",
   "metadata": {},
   "source": [
    "#### Topic Modelling in the training set\n",
    "\n",
    "See : https://scikit-learn.org/stable/auto_examples/applications/plot_topics_extraction_with_nmf_lda.html#sphx-glr-auto-examples-applications-plot-topics-extraction-with-nmf-lda-py"
   ]
  },
  {
   "cell_type": "code",
   "execution_count": 91,
   "metadata": {},
   "outputs": [],
   "source": [
    "from sklearn.decomposition import LatentDirichletAllocation as LDA\n",
    "from sklearn.feature_extraction.text import CountVectorizer"
   ]
  },
  {
   "cell_type": "code",
   "execution_count": 92,
   "metadata": {},
   "outputs": [],
   "source": [
    "data = pd.read_csv('./cleandata/data.csv')\n",
    "train = data.loc[indtrain].copy()\n",
    "data = None"
   ]
  },
  {
   "cell_type": "code",
   "execution_count": 96,
   "metadata": {},
   "outputs": [],
   "source": [
    "count_vectorizer = CountVectorizer()\n",
    "count_data = count_vectorizer.fit_transform(train['processed'])"
   ]
  },
  {
   "cell_type": "code",
   "execution_count": 97,
   "metadata": {},
   "outputs": [
    {
     "name": "stdout",
     "output_type": "stream",
     "text": [
      "Topics found via LDA:\n",
      "\n",
      "Topic #0:\n",
      "digit_token police people year said one black group american muslim\n",
      "\n",
      "Topic #1:\n",
      "digit_token clinton said election campaign state trump hillary party russian\n",
      "\n",
      "Topic #2:\n",
      "trump digit_token reference_token president republican donald people said url_token one\n",
      "\n",
      "Topic #3:\n",
      "digit_token said trump state would president united republican house reuters\n",
      "\n",
      "Topic #4:\n",
      "digit_token said court government state reuters year people law would\n"
     ]
    }
   ],
   "source": [
    "# Helper function\n",
    "def print_topics(model, count_vectorizer, n_top_words):\n",
    "    words = count_vectorizer.get_feature_names()\n",
    "    for topic_idx, topic in enumerate(model.components_):\n",
    "        print(\"\\nTopic #%d:\" % topic_idx)\n",
    "        print(\" \".join([words[i]\n",
    "                        for i in topic.argsort()[:-n_top_words - 1:-1]]))\n",
    "        \n",
    "# Tweak the two parameters below\n",
    "number_topics = 5\n",
    "number_words = 10\n",
    "# Create and fit the LDA model\n",
    "lda = LDA(n_components=number_topics, n_jobs=-1)\n",
    "lda.fit(count_data)\n",
    "# Print the topics found by the LDA model\n",
    "print(\"Topics found via LDA:\")\n",
    "print_topics(lda, count_vectorizer, number_words)"
   ]
  }
 ],
 "metadata": {
  "kernelspec": {
   "display_name": "conda_mxnet_p36",
   "language": "python",
   "name": "conda_mxnet_p36"
  },
  "language_info": {
   "codemirror_mode": {
    "name": "ipython",
    "version": 3
   },
   "file_extension": ".py",
   "mimetype": "text/x-python",
   "name": "python",
   "nbconvert_exporter": "python",
   "pygments_lexer": "ipython3",
   "version": "3.6.5"
  }
 },
 "nbformat": 4,
 "nbformat_minor": 4
}
